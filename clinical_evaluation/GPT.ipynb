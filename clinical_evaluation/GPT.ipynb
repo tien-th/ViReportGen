{
 "cells": [
  {
   "cell_type": "code",
   "execution_count": 6,
   "metadata": {},
   "outputs": [
    {
     "name": "stdout",
     "output_type": "stream",
     "text": [
      "PETCT_2017_THANG 12_images__patient_421_REPORT_patient_421\n",
      "PETCT_2017_THANG 12_images__patient_399_REPORT_patient_399\n"
     ]
    }
   ],
   "source": [
    "# 'GPT/PETCT_2017_THANG 12_images_chest_day_5_patient_421.json' --> 'PETCT_2017_THANG 12_5_patient_421_REPORT_patient_421'\n",
    "# 'GPT/PETCT_2017_THANG 12_images_chest_day_27_patient_399.json' --> \"PETCT_2017_THANG 12_27_patient_399_REPORT_patient_399\"\n"
   ]
  },
  {
   "cell_type": "code",
   "execution_count": 19,
   "metadata": {},
   "outputs": [
    {
     "name": "stdout",
     "output_type": "stream",
     "text": [
      "--- Test Case 1 ---\n",
      "Input:    'GPT/PETCT_2017_THANG 12_images_chest_day_5_patient_421.json'\n",
      "Expected: 'PETCT_2017_THANG 12_5_patient_421_REPORT_patient_421'\n",
      "Actual:   'PETCT_2017_THANG 12_5_patient_421_REPORT_patient_421'\n",
      "Result:   PASS\n",
      "--------------------\n",
      "--- Test Case 2 ---\n",
      "Input:    'GPT/PETCT_2018_THANG 11_images_chest_day_06_patient_643.json'\n",
      "Expected: 'PETCT_2018_THANG 11_06_patient_643_REPORT_patient_643'\n",
      "Actual:   'PETCT_2018_THANG 11_06_patient_643_REPORT_patient_643'\n",
      "Result:   PASS\n",
      "--------------------\n",
      "--- Test Case 3 ---\n",
      "Input:    'GPT/PETCT_2017_THANG 12_images_chest_day_27_patient_399.json'\n",
      "Expected: 'PETCT_2017_THANG 12_27_patient_399_REPORT_patient_399'\n",
      "Actual:   'PETCT_2017_THANG 12_27_patient_399_REPORT_patient_399'\n",
      "Result:   PASS\n",
      "--------------------\n",
      "--- Test Case 4 ---\n",
      "Input:    'PETCT_2023_THANG 1_images_chest_day_1_patient_101.json'\n",
      "Expected: 'PETCT_2023_THANG 1_1_patient_101_REPORT_patient_101'\n",
      "Actual:   'PETCT_2023_THANG 1_1_patient_101_REPORT_patient_101'\n",
      "Result:   PASS\n",
      "--------------------\n",
      "--- Test Case 5 ---\n",
      "Warning: Path 'GPT/INVALID_FORMAT.json' (filename: 'INVALID_FORMAT.json') did not match the expected pattern.\n",
      "Input:    'GPT/INVALID_FORMAT.json'\n",
      "Expected: 'GPT/INVALID_FORMAT.json'\n",
      "Actual:   'GPT/INVALID_FORMAT.json'\n",
      "Result:   PASS\n",
      "--------------------\n",
      "\n",
      "Example 1:\n",
      "'GPT/PETCT_2017_THANG 12_images_chest_day_5_patient_421.json' --> 'PETCT_2017_THANG 12_5_patient_421_REPORT_patient_421'\n",
      "Example 2:\n",
      "'GPT/PETCT_2018_THANG 11_images_chest_day_06_patient_643.json' --> 'PETCT_2018_THANG 11_06_patient_643_REPORT_patient_643'\n"
     ]
    }
   ],
   "source": [
    "import re\n",
    "import os\n",
    "\n",
    "def convert_path(input_path: str) -> str:\n",
    "    \"\"\"\n",
    "    Converts a file path string according to the specified pattern.\n",
    "    Example:\n",
    "    'GPT/PETCT_2017_THANG 12_images_chest_day_5_patient_421.json'\n",
    "    --> 'PETCT_2017_THANG 12_5_patient_421_REPORT_patient_421'\n",
    "    'GPT/PETCT_2018_THANG 11_images_chest_day_06_patient_643.json'\n",
    "    --> 'PETCT_2018_THANG 11_06_patient_643_REPORT_patient_643'\n",
    "    \"\"\"\n",
    "    # 1. Get just the filename from the input path\n",
    "    filename = os.path.basename(input_path)\n",
    "\n",
    "    # 2. Define the regex pattern to capture the necessary parts\n",
    "    #    - Group 1 (prefix_part): (PETCT_\\d{4}_THANG \\d{1,2}_)\n",
    "    #      - PETCT_ : Literal\n",
    "    #      - \\d{4}  : Year (e.g., 2017, 2018)\n",
    "    #      - _THANG : Literal \"_THANG \" (with space)\n",
    "    #      - \\d{1,2}: Month number (e.g., 12, 11, or even 1, 2 if applicable)\n",
    "    #      - _      : Literal underscore\n",
    "    #    - images_chest_day_ : The part to be \"skipped\"\n",
    "    #    - Group 2 (day_num): (\\d+)\n",
    "    #      - \\d+    : Day number (e.g., 5, 06, 27)\n",
    "    #    - _                   : Literal underscore separator\n",
    "    #    - Group 3 (patient_id_full): (patient_\\d+)\n",
    "    #      - patient_ : Literal\n",
    "    #      - \\d+      : Patient number (e.g., 421, 399, 643)\n",
    "    #    - \\.json$             : Matches the \".json\" at the end of the string\n",
    "    pattern = r\"(PETCT_\\d{4}_THANG \\d{1,2}_)images_chest_day_(\\d+)_(patient_\\d+)\\.json$\"\n",
    "\n",
    "    match = re.match(pattern, filename)\n",
    "\n",
    "    if match:\n",
    "        prefix_part = match.group(1)      # e.g., \"PETCT_2017_THANG 12_\"\n",
    "        day_num = match.group(2)          # e.g., \"5\", \"06\"\n",
    "        patient_id_full = match.group(3)  # e.g., \"patient_421\"\n",
    "\n",
    "        # 4. Construct the new string\n",
    "        #    Format: prefix_part + day_num + \"_\" + patient_id_full + \"_REPORT_\" + patient_id_full\n",
    "        output_filename = f\"{prefix_part}{day_num}_{patient_id_full}_REPORT_{patient_id_full}\"\n",
    "        return output_filename\n",
    "    else:\n",
    "        # Handle cases where the pattern doesn't match\n",
    "        print(f\"Warning: Path '{input_path}' (filename: '{filename}') did not match the expected pattern.\")\n",
    "        return input_path # Return original path or raise an error/return None as per desired behavior\n",
    "\n",
    "# Test cases based on the docstring and previous examples\n",
    "test_cases = [\n",
    "    {\n",
    "        \"input\": 'GPT/PETCT_2017_THANG 12_images_chest_day_5_patient_421.json',\n",
    "        \"expected\": 'PETCT_2017_THANG 12_5_patient_421_REPORT_patient_421'\n",
    "    },\n",
    "    {\n",
    "        \"input\": 'GPT/PETCT_2018_THANG 11_images_chest_day_06_patient_643.json',\n",
    "        \"expected\": 'PETCT_2018_THANG 11_06_patient_643_REPORT_patient_643'\n",
    "    },\n",
    "    {\n",
    "        \"input\": 'GPT/PETCT_2017_THANG 12_images_chest_day_27_patient_399.json', # From initial examples\n",
    "        \"expected\": \"PETCT_2017_THANG 12_27_patient_399_REPORT_patient_399\"\n",
    "    },\n",
    "    {\n",
    "        \"input\": 'PETCT_2023_THANG 1_images_chest_day_1_patient_101.json', # Test without \"GPT/\" and single digit month/day\n",
    "        \"expected\": \"PETCT_2023_THANG 1_1_patient_101_REPORT_patient_101\"\n",
    "    },\n",
    "    {\n",
    "        \"input\": 'GPT/INVALID_FORMAT.json', # Test a non-matching format\n",
    "        \"expected\": 'GPT/INVALID_FORMAT.json' # Expect original path due to warning\n",
    "    }\n",
    "]\n",
    "\n",
    "\n",
    "for i, tc in enumerate(test_cases):\n",
    "    print(f\"--- Test Case {i+1} ---\")\n",
    "    input_val = tc[\"input\"]\n",
    "    expected_val = tc[\"expected\"]\n",
    "    actual_val = convert_path(input_val)\n",
    "\n",
    "    print(f\"Input:    '{input_val}'\")\n",
    "    print(f\"Expected: '{expected_val}'\")\n",
    "    print(f\"Actual:   '{actual_val}'\")\n",
    "    if actual_val == expected_val:\n",
    "        print(\"Result:   PASS\")\n",
    "    else:\n",
    "        print(\"Result:   FAIL\")\n",
    "    print(\"-\" * 20)\n",
    "\n",
    "# Example usage from docstring\n",
    "path1 = 'GPT/PETCT_2017_THANG 12_images_chest_day_5_patient_421.json'\n",
    "converted1 = convert_path(path1)\n",
    "print(f\"\\nExample 1:\\n'{path1}' --> '{converted1}'\")\n",
    "\n",
    "path2 = 'GPT/PETCT_2018_THANG 11_images_chest_day_06_patient_643.json'\n",
    "converted2 = convert_path(path2)\n",
    "print(f\"Example 2:\\n'{path2}' --> '{converted2}'\")"
   ]
  },
  {
   "cell_type": "code",
   "execution_count": 20,
   "metadata": {},
   "outputs": [],
   "source": [
    "json_path = '/home/jovyan/shared/tienhuu060102/data-petct/clinical_eval/w_refactor/mapping_dict.json'\n",
    "import json \n",
    "# read json\n",
    "with open(json_path, 'r') as f:\n",
    "    mapping_dict = json.load(f)\n",
    "\n",
    "# print(data)\n",
    "\n"
   ]
  },
  {
   "cell_type": "code",
   "execution_count": 21,
   "metadata": {},
   "outputs": [
    {
     "data": {
      "text/plain": [
       "'PETCT_2018_THANG 11_06_patient_643_REPORT_patient_643'"
      ]
     },
     "execution_count": 21,
     "metadata": {},
     "output_type": "execute_result"
    }
   ],
   "source": [
    "convert_path('GPT/PETCT_2018_THANG 11_images_chest_day_06_patient_643.json')"
   ]
  },
  {
   "cell_type": "code",
   "execution_count": 22,
   "metadata": {},
   "outputs": [
    {
     "data": {
      "text/plain": [
       "'37c21d01da39b77166461a72a652380bee260402d0fea828f800ad2cc535b0ef'"
      ]
     },
     "execution_count": 22,
     "metadata": {},
     "output_type": "execute_result"
    }
   ],
   "source": [
    "name2id = {}\n",
    "for key, value in mapping_dict.items():\n",
    "    name2id[value] = key\n",
    "\n",
    "name2id[convert_path('GPT/PETCT_2018_THANG 11_images_chest_day_06_patient_643.json')]\n",
    "\n",
    "\n",
    "\n",
    "\n",
    "\n"
   ]
  },
  {
   "cell_type": "code",
   "execution_count": 25,
   "metadata": {},
   "outputs": [],
   "source": [
    "import os \n",
    "rootdir = 'GPT'\n",
    "save_dir = 'GPT_new'\n",
    "os.makedirs(save_dir, exist_ok=True)\n",
    "for file in os.listdir(rootdir):\n",
    "    if file.endswith('.json'):\n",
    "        try:\n",
    "            path = os.path.join(rootdir, file)\n",
    "            with open(path, 'r', encoding='utf-8') as f:\n",
    "                data = json.load(f)\n",
    "            new_path = os.path.join(save_dir, name2id[convert_path(path)]) + '.json'\n",
    "            with open(new_path, 'w', encoding='utf-8') as f:\n",
    "                json.dump(data, f, ensure_ascii=False, indent=4)\n",
    "        except Exception as e:\n",
    "            print(f\"Error processing {path}: {e}\")\n",
    "            continue\n",
    "\n",
    "\n"
   ]
  }
 ],
 "metadata": {
  "kernelspec": {
   "display_name": "saturn",
   "language": "python",
   "name": "python3"
  },
  "language_info": {
   "codemirror_mode": {
    "name": "ipython",
    "version": 3
   },
   "file_extension": ".py",
   "mimetype": "text/x-python",
   "name": "python",
   "nbconvert_exporter": "python",
   "pygments_lexer": "ipython3",
   "version": "3.8.20"
  }
 },
 "nbformat": 4,
 "nbformat_minor": 2
}
